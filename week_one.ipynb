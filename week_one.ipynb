{
 "cells": [
  {
   "cell_type": "markdown",
   "metadata": {
    "colab_type": "text",
    "id": "view-in-github"
   },
   "source": [
    "<a href=\"https://colab.research.google.com/github/evanshouldice/python_bootcamp/blob/main/week_one.ipynb\" target=\"_parent\"><img src=\"https://colab.research.google.com/assets/colab-badge.svg\" alt=\"Open In Colab\"/></a>"
   ]
  },
  {
   "cell_type": "markdown",
   "metadata": {
    "id": "rJXy3786HJIP"
   },
   "source": []
  },
  {
   "cell_type": "markdown",
   "metadata": {
    "id": "IE_GOakyHKfp"
   },
   "source": [
    "#Important Takeaways:\n",
    "A **module** allows us to import existing code to use in our project.  \n",
    "A module is an **object**, and objects have **members**.  \n",
    "The two member types are **methods** and **attributes**.  \n",
    "**Methods** are the same as functions like we talked about in the prvious episode, but they are attached to objects and need the dot operator to be invoked.  \n",
    "Data is **passed** in to the method as an argument.  \n",
    "**Methods** have the ability to **return** data, which can then be assigned into a variable.  \n",
    "requests.get() returns a response, which is an object with its own members.  "
   ]
  },
  {
   "cell_type": "code",
   "execution_count": null,
   "metadata": {
    "colab": {
     "base_uri": "https://localhost:8080/"
    },
    "id": "cS4JCAp0z_-E",
    "outputId": "d59e8c72-2242-499d-806f-22974ed249c7"
   },
   "outputs": [
    {
     "name": "stdout",
     "output_type": "stream",
     "text": [
      "{\"id\":\"9e41cc51-bfaf-44d6-9366-1788856899d9\",\"text\":\"In space, astronauts are unable to cry, because there is no gravity and the tears won`t flow.\",\"source\":\"djtech.net\",\"source_url\":\"http:\\/\\/www.djtech.net\\/humor\\/useless_facts.htm\",\"language\":\"en\",\"permalink\":\"https:\\/\\/uselessfacts.jsph.pl\\/9e41cc51-bfaf-44d6-9366-1788856899d9\"}\n"
     ]
    }
   ],
   "source": [
    "import requests\n",
    "\n",
    "response = requests.get('https://uselessfacts.jsph.pl/random.json?language=en')\n",
    "\n",
    "print(response.text)"
   ]
  },
  {
   "cell_type": "markdown",
   "metadata": {
    "id": "1kKOcjGtH8RL"
   },
   "source": [
    "We can also display without the print() function as the code is executed in interactive mode"
   ]
  },
  {
   "cell_type": "code",
   "execution_count": null,
   "metadata": {
    "colab": {
     "base_uri": "https://localhost:8080/",
     "height": 70
    },
    "id": "thAIFVVWIEAs",
    "outputId": "bc89348c-880e-4de7-a741-a729a0848523"
   },
   "outputs": [
    {
     "data": {
      "application/vnd.google.colaboratory.intrinsic+json": {
       "type": "string"
      },
      "text/plain": [
       "'{\"id\":\"8b1f4d4d-193a-4ad0-ad19-ae8cfc17de12\",\"text\":\"More Monopoly money is printed in a year, than real money throughout the world.\",\"source\":\"djtech.net\",\"source_url\":\"http:\\\\/\\\\/www.djtech.net\\\\/humor\\\\/useless_facts.htm\",\"language\":\"en\",\"permalink\":\"https:\\\\/\\\\/uselessfacts.jsph.pl\\\\/8b1f4d4d-193a-4ad0-ad19-ae8cfc17de12\"}'"
      ]
     },
     "execution_count": 15,
     "metadata": {},
     "output_type": "execute_result"
    }
   ],
   "source": [
    "response.text"
   ]
  },
  {
   "cell_type": "markdown",
   "metadata": {
    "id": "cBtQ9_AlIXXp"
   },
   "source": [
    "Below we go through a variation of the code above. In this example we define our **query_parameters** in a separate dictionary.  These are then passed as an argument to the **params** parameter of requests.get().  \n",
    "We also use response.json() instead of response.text to get the response data as a dictionary.  \n",
    "Python dictionaries have a .get() method that can be used to grab a particular element, such as 'text' (this value depends on the API we are consuming)"
   ]
  },
  {
   "cell_type": "code",
   "execution_count": null,
   "metadata": {
    "colab": {
     "base_uri": "https://localhost:8080/"
    },
    "id": "JaM37QDoD2Lr",
    "outputId": "2724eb97-82c5-466d-8bd6-afb8cc34b652"
   },
   "outputs": [
    {
     "name": "stdout",
     "output_type": "stream",
     "text": [
      "More Monopoly money is printed in a year, than real money throughout the world.\n"
     ]
    }
   ],
   "source": [
    "import requests\n",
    "\n",
    "query_parameters={\n",
    "    'language':'en'\n",
    "}\n",
    "\n",
    "response = requests.get('https://uselessfacts.jsph.pl/random.json', params=query_parameters)\n",
    "\n",
    "print(response.json().get('text'))"
   ]
  },
  {
   "cell_type": "markdown",
   "metadata": {
    "id": "I9dGnOolJA56"
   },
   "source": [
    "#Data Structures\n",
    "The **important** ones are lists, dictionaries, and sets."
   ]
  },
  {
   "cell_type": "code",
   "execution_count": null,
   "metadata": {
    "colab": {
     "base_uri": "https://localhost:8080/"
    },
    "id": "RATZSlgBElSe",
    "outputId": "d9f9f1a0-90d0-49dd-f423-a12e4342d739"
   },
   "outputs": [
    {
     "name": "stdout",
     "output_type": "stream",
     "text": [
      "Shouldice\n",
      "['Evan', 'Shouldice', 'JIMMY']\n"
     ]
    }
   ],
   "source": [
    "data = ['Evan', 'Shouldice']\n",
    "\n",
    "print(data[1])\n",
    "\n",
    "data.append('JIMMY')\n",
    "\n",
    "print(data)\n"
   ]
  },
  {
   "cell_type": "markdown",
   "metadata": {
    "id": "nBN9zDEI0IC5"
   },
   "source": []
  },
  {
   "cell_type": "markdown",
   "metadata": {
    "id": "xe2eoRIYGuo8"
   },
   "source": [
    "## List Slicing\n",
    "first number - starting position (inclusive).  \n",
    "second number - stopping position (exclusive).  \n",
    "third number - step (interval to grab data)."
   ]
  },
  {
   "cell_type": "code",
   "execution_count": null,
   "metadata": {
    "colab": {
     "base_uri": "https://localhost:8080/"
    },
    "id": "N0e6wbK4GHoU",
    "outputId": "f0ba893a-061a-4b9e-9f8c-f9ad113294c8"
   },
   "outputs": [
    {
     "data": {
      "text/plain": [
       "['Caleb', 'Sam']"
      ]
     },
     "execution_count": 14,
     "metadata": {},
     "output_type": "execute_result"
    }
   ],
   "source": [
    "data = ['Evan', 'Caleb', 'Sam', 'Matt']\n",
    "\n",
    "print(data[1:3])"
   ]
  },
  {
   "cell_type": "markdown",
   "metadata": {
    "id": "4k-9WUgZJdtW"
   },
   "source": [
    "## Dictionaries and Sets"
   ]
  },
  {
   "cell_type": "code",
   "execution_count": null,
   "metadata": {
    "colab": {
     "base_uri": "https://localhost:8080/"
    },
    "id": "Ds3Y-pm2JdKG",
    "outputId": "76233d63-8218-4257-91f5-4ebfbbd029f4"
   },
   "outputs": [
    {
     "name": "stdout",
     "output_type": "stream",
     "text": [
      "{'Matt', 'Caleb', 'Evan', 'Sam'}\n",
      "{'Evan': 4, 'Caleb': 5, 'Sam': 6, 'Matt': 7}\n",
      "4\n"
     ]
    }
   ],
   "source": [
    "data = {'Evan', 'Caleb', 'Sam', 'Matt', 'Evan'}\n",
    "\n",
    "data_dictionary = {\n",
    "    'Evan': 4,\n",
    "    'Caleb': 5,\n",
    "    'Sam': 6,\n",
    "    'Matt': 7\n",
    "}\n",
    "\n",
    "print(data)\n",
    "print(data_dictionary)\n",
    "print(data_dictionary.get('Evan'))"
   ]
  },
  {
   "cell_type": "markdown",
   "metadata": {
    "id": "MWrQ7HjIMisn"
   },
   "source": [
    "# Control Flow - Loops and Conditionals\n",
    "\n",
    "Iteration - one time through the loop.  \n"
   ]
  },
  {
   "cell_type": "code",
   "execution_count": null,
   "metadata": {
    "colab": {
     "base_uri": "https://localhost:8080/"
    },
    "id": "2m62BftfMhlE",
    "outputId": "f4b79268-9d56-4d62-9925-94405de6b676"
   },
   "outputs": [
    {
     "name": "stdout",
     "output_type": "stream",
     "text": [
      "a b c d e \n",
      "0 a 1 b 2 c 3 d 4 e \n",
      "a b c d e \n"
     ]
    }
   ],
   "source": [
    "data = ['a','b','c','d','e']\n",
    "\n",
    "# for loop\n",
    "for i in range(len(data)):\n",
    "  print(data[i], end=\" \")\n",
    "print(\"\")\n",
    "\n",
    "# index and letter\n",
    "for i, letter in enumerate(data):\n",
    "  print(i, letter, end=\" \")\n",
    "print(\"\")\n",
    "\n",
    "# for each loop\n",
    "for letter in data:\n",
    "  print(letter, end=\" \")\n",
    "print(\"\")"
   ]
  },
  {
   "cell_type": "code",
   "execution_count": null,
   "metadata": {
    "colab": {
     "base_uri": "https://localhost:8080/"
    },
    "id": "LoagI7-9STeW",
    "outputId": "a9770b9e-7661-4b99-a16e-bd3814ea68f3"
   },
   "outputs": [
    {
     "name": "stdout",
     "output_type": "stream",
     "text": [
      "a b c d e hello\n",
      "it wasnt stop or special\n",
      "printing data...\n",
      "special\n",
      "break\n",
      "it wasnt stop or special\n",
      "printing data...\n",
      "stop\n"
     ]
    }
   ],
   "source": [
    "data = ['a','b','c','d','e']\n",
    "\n",
    "i = 0\n",
    "\n",
    "while i < len(data):\n",
    "  print(data[i], end=\" \")\n",
    "  i += 1\n",
    "\n",
    "while True:\n",
    "  x = input()\n",
    "  if x == \"stop\":\n",
    "    break\n",
    "  elif x == \"special\":\n",
    "    continue\n",
    "  else:\n",
    "    print(\"it wasnt stop or special\")\n",
    "  print(\"printing data...\")\n",
    "  "
   ]
  },
  {
   "cell_type": "code",
   "execution_count": null,
   "metadata": {
    "colab": {
     "base_uri": "https://localhost:8080/"
    },
    "id": "u65J2_XzTxIO",
    "outputId": "83db718e-93e2-4cb1-dbb8-9e17ed57f540"
   },
   "outputs": [
    {
     "name": "stdout",
     "output_type": "stream",
     "text": [
      "Evan 4\n",
      "Caleb 5\n",
      "Sam 6\n",
      "Matt 7\n"
     ]
    }
   ],
   "source": [
    "data_dictionary = {\n",
    "    'Evan': 4,\n",
    "    'Caleb': 5,\n",
    "    'Sam': 6,\n",
    "    'Matt': 7\n",
    "}\n",
    "\n",
    "for key, value in data_dictionary.items():\n",
    "  print(key, value)"
   ]
  },
  {
   "cell_type": "markdown",
   "metadata": {
    "id": "FeJ2BkADO07W"
   },
   "source": [
    "# Guessing Game\n",
    "Generate a random number - random module  \n",
    "do while - Python doesn't have this built in.  \n",
    "do something once -- possibly repeat it.  \n",
    "Ask us for a number.  If we get it wrong, ask again.  \n",
    "Logic for right/wrong: guessed == correct value"
   ]
  },
  {
   "cell_type": "code",
   "execution_count": null,
   "metadata": {
    "colab": {
     "base_uri": "https://localhost:8080/"
    },
    "id": "CuahjppdO0HX",
    "outputId": "92dd6292-035b-4705-8a12-3ee0e293435c"
   },
   "outputs": [
    {
     "name": "stdout",
     "output_type": "stream",
     "text": [
      "Guess a number between 0 and 100\n",
      "4\n",
      "Guess Higher\n",
      "10\n",
      "Guess Higher\n",
      "50\n",
      "Guess Lower\n",
      "40\n",
      "Guess Lower\n",
      "30\n",
      "Guess Higher\n",
      "34\n",
      "Guess Lower\n",
      "33\n",
      "You win\n"
     ]
    }
   ],
   "source": [
    "from random import randint\n",
    "low = 0\n",
    "high = 100\n",
    "correct = randint(low, high)\n",
    "print(f'Guess a number between {low} and {high}')\n",
    "\n",
    "while True:\n",
    "  guess = int(input())\n",
    "  if guess < correct:\n",
    "    print(\"Guess Higher\")\n",
    "  elif guess > correct:\n",
    "    print(\"Guess Lower\")\n",
    "  else:\n",
    "    print(\"You win\")\n",
    "    break\n",
    "  "
   ]
  },
  {
   "cell_type": "code",
   "execution_count": null,
   "metadata": {
    "id": "SqH02WLmFI0U"
   },
   "outputs": [],
   "source": [
    "print(\"Small Change\")"
   ]
  }
 ],
 "metadata": {
  "colab": {
   "authorship_tag": "ABX9TyPQCwC6dVZjvIryccIGnBsD",
   "include_colab_link": true,
   "provenance": [],
   "toc_visible": true
  },
  "kernelspec": {
   "display_name": "Python 3 (ipykernel)",
   "language": "python",
   "name": "python3"
  },
  "language_info": {
   "codemirror_mode": {
    "name": "ipython",
    "version": 3
   },
   "file_extension": ".py",
   "mimetype": "text/x-python",
   "name": "python",
   "nbconvert_exporter": "python",
   "pygments_lexer": "ipython3",
   "version": "3.10.1"
  }
 },
 "nbformat": 4,
 "nbformat_minor": 4
}
